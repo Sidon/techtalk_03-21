{
 "cells": [
  {
   "cell_type": "markdown",
   "metadata": {},
   "source": [
    "### Cálculo do Juros simples.\n",
    "#### Fórmula:\n",
    "J = C.i.n\n",
    "\n",
    "Onde:\n",
    "- J = juros,\n",
    "- C = capital,\n",
    "- i = taxa de empréstimo\n",
    "- n = períodos"
   ]
  },
  {
   "cell_type": "code",
   "execution_count": null,
   "metadata": {},
   "outputs": [],
   "source": [
    "##\n",
    "# Calcula o juros simples do capital informado\n",
    "# Argumentos:\n",
    "#    c = Capital\n",
    "#    i = Taxa de juros\n",
    "#    n = Número de períodos\n",
    "#\n",
    "#    Exemplo de uso:\n",
    "#       ``juros_calculado = juros_simples(500, 3, 5)``\n",
    "#       print(juros_calculado)\n",
    "##\n",
    "def juros_simples1(c, i, n):\n",
    "    return c*i*n"
   ]
  },
  {
   "cell_type": "code",
   "execution_count": 16,
   "metadata": {},
   "outputs": [],
   "source": [
    "def juros_simples2(c, i, n):\n",
    "    \"\"\"\n",
    "    Calcula o juros simples do capital informado\n",
    "\n",
    "      Argumentos:\n",
    "        c = Capital\n",
    "        i = Taxa de juros\n",
    "        n = Número de períodos\n",
    "\n",
    "        Exemplo de uso:\n",
    "           ```juros_calculado = juros_simples(500, 3, 5)```\n",
    "           print(juros_calculado)\n",
    "    \"\"\"    \n",
    "    \n",
    "    return c*i*n"
   ]
  },
  {
   "cell_type": "code",
   "execution_count": 17,
   "metadata": {},
   "outputs": [
    {
     "name": "stdout",
     "output_type": "stream",
     "text": [
      "Help on function juros_simples2 in module __main__:\n",
      "\n",
      "juros_simples2(c, i, n)\n",
      "    Calcula o juros simples do capital informado\n",
      "    \n",
      "      Argumentos:\n",
      "        c = Capital\n",
      "        i = Taxa de juros\n",
      "        n = Número de períodos\n",
      "    \n",
      "        Exemplo de uso:\n",
      "           ```juros_calculado = juros_simples(500, 3, 5)```\n",
      "           print(juros_calculado)\n",
      "\n"
     ]
    }
   ],
   "source": [
    "help(juros_simples2)"
   ]
  },
  {
   "cell_type": "code",
   "execution_count": null,
   "metadata": {},
   "outputs": [],
   "source": []
  }
 ],
 "metadata": {
  "kernelspec": {
   "display_name": "Python 3",
   "language": "python",
   "name": "python3"
  },
  "language_info": {
   "codemirror_mode": {
    "name": "ipython",
    "version": 3
   },
   "file_extension": ".py",
   "mimetype": "text/x-python",
   "name": "python",
   "nbconvert_exporter": "python",
   "pygments_lexer": "ipython3",
   "version": "3.7.6"
  }
 },
 "nbformat": 4,
 "nbformat_minor": 4
}
